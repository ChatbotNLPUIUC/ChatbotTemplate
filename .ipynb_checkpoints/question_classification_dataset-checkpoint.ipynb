{
 "cells": [
  {
   "cell_type": "code",
   "execution_count": 1,
   "metadata": {},
   "outputs": [],
   "source": [
    "import wikipedia\n",
    "import nltk\n",
    "import re\n",
    "import pandas as pd"
   ]
  },
  {
   "cell_type": "code",
   "execution_count": 2,
   "metadata": {},
   "outputs": [],
   "source": [
    "def get_dataframe_from_wiki(page_name):\n",
    "    searched_page = wikipedia.search(page_name)[0]\n",
    "    page = wikipedia.page(searched_page)\n",
    "    t = re.sub('=+.*?=+', '', page.content)\n",
    "    sent_text = nltk.sent_tokenize(t)\n",
    "    sent_text = [x for x in sent_text if \"?\" not in x]\n",
    "    return pd.DataFrame({\"sentence\": sent_text, \"labels\": [0 for _ in range(len(sent_text))]})"
   ]
  },
  {
   "cell_type": "code",
   "execution_count": 3,
   "metadata": {},
   "outputs": [],
   "source": [
    "sentence_data = pd.concat([get_dataframe_from_wiki(x) for x in [\"Soccer\", \"Chemistry\", \"Hollywood\", \"Twitter\", \"University of Illinois at Urbana-Champaign\",\n",
    "                                             \"Computer Science\", \"Basketball\", \"American Football\", \"United States\", \"Japan\", \"China\", \"iPhone\", \"Pixar\"]])"
   ]
  },
  {
   "cell_type": "code",
   "execution_count": 4,
   "metadata": {},
   "outputs": [],
   "source": [
    "df1 = pd.read_csv('./questions_txt/S08_question_answer_pairs.txt', sep='\\t')\n",
    "df2 = pd.read_csv('./questions_txt/S09_question_answer_pairs.txt', sep='\\t')\n",
    "df3 = pd.read_csv('./questions_txt/S10_question_answer_pairs.txt', sep='\\t', encoding = 'ISO-8859-1')"
   ]
  },
  {
   "cell_type": "code",
   "execution_count": 5,
   "metadata": {},
   "outputs": [],
   "source": [
    "question_data = pd.concat([df1, df2, df3])"
   ]
  },
  {
   "cell_type": "code",
   "execution_count": 6,
   "metadata": {},
   "outputs": [],
   "source": [
    "question_data = pd.DataFrame({\"sentence\": question_data[\"Question\"], \"labels\": [\n",
    "                             1 for _ in range(len(question_data))]})"
   ]
  },
  {
   "cell_type": "code",
   "execution_count": 7,
   "metadata": {},
   "outputs": [],
   "source": [
    "dataset = pd.concat([sentence_data, question_data])"
   ]
  },
  {
   "cell_type": "code",
   "execution_count": 8,
   "metadata": {},
   "outputs": [],
   "source": [
    "dataset.drop_duplicates(inplace=True)"
   ]
  },
  {
   "cell_type": "code",
   "execution_count": 9,
   "metadata": {},
   "outputs": [],
   "source": [
    "dataset.reset_index(inplace=True, drop=True)"
   ]
  },
  {
   "cell_type": "code",
   "execution_count": 10,
   "metadata": {},
   "outputs": [],
   "source": [
    "dataset.to_csv(\"./question_classification_dataset.csv\")"
   ]
  },
  {
   "cell_type": "code",
   "execution_count": null,
   "metadata": {},
   "outputs": [],
   "source": []
  }
 ],
 "metadata": {
  "kernelspec": {
   "display_name": "Python 3",
   "language": "python",
   "name": "python3"
  },
  "language_info": {
   "codemirror_mode": {
    "name": "ipython",
    "version": 3
   },
   "file_extension": ".py",
   "mimetype": "text/x-python",
   "name": "python",
   "nbconvert_exporter": "python",
   "pygments_lexer": "ipython3",
   "version": "3.7.7"
  },
  "toc": {
   "base_numbering": 1,
   "nav_menu": {},
   "number_sections": true,
   "sideBar": true,
   "skip_h1_title": false,
   "title_cell": "Table of Contents",
   "title_sidebar": "Contents",
   "toc_cell": false,
   "toc_position": {},
   "toc_section_display": true,
   "toc_window_display": false
  }
 },
 "nbformat": 4,
 "nbformat_minor": 4
}
